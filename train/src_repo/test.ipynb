{
 "cells": [
  {
   "cell_type": "code",
   "execution_count": 1,
   "metadata": {},
   "outputs": [],
   "source": [
    "import torch\n",
    "\n",
    "conf = torch.tensor([[0.2267, 0.2303, 0.0536, 0.4871, 0.0517, 0.9111, 0.7975, 0.8897, 0.5086, 0.8200, 0.4816, 0.9755, 0.9572, 0.9595, 0.9150, 0.9036, 0.8418]], device='cuda:0')\n",
    "xy = torch.tensor([[[0.0000, 0.0000],\n",
    "                   [0.0000, 0.0000],\n",
    "                   [0.0000, 0.0000],\n",
    "                   [0.0000, 0.0000],\n",
    "                   [0.0000, 0.0000],\n",
    "                   [1314.5510, 418.4670],\n",
    "                   [1309.1628, 416.3605],\n",
    "                   [1293.7601, 496.4254],\n",
    "                   [1282.1833, 486.1476],\n",
    "                   [1234.9612, 540.7297],\n",
    "                   [0.0000, 0.0000],\n",
    "                   [1305.5518, 557.9876],\n",
    "                   [1299.7772, 554.0300],\n",
    "                   [1275.0110, 654.2507],\n",
    "                   [1259.4346, 651.2818],\n",
    "                   [1278.7854, 749.2365],\n",
    "                   [1254.3577, 744.9811]]], device='cuda:0')\n"
   ]
  },
  {
   "cell_type": "code",
   "execution_count": 5,
   "metadata": {},
   "outputs": [
    {
     "data": {
      "text/plain": [
       "torch.Size([1, 17, 2])"
      ]
     },
     "execution_count": 5,
     "metadata": {},
     "output_type": "execute_result"
    }
   ],
   "source": [
    "xy.shape"
   ]
  },
  {
   "cell_type": "code",
   "execution_count": 6,
   "metadata": {},
   "outputs": [
    {
     "data": {
      "text/plain": [
       "torch.Size([1, 17, 1])"
      ]
     },
     "execution_count": 6,
     "metadata": {},
     "output_type": "execute_result"
    }
   ],
   "source": [
    "conf.unsqueeze(2).shape"
   ]
  },
  {
   "cell_type": "code",
   "execution_count": 7,
   "metadata": {},
   "outputs": [
    {
     "name": "stdout",
     "output_type": "stream",
     "text": [
      "tensor([[[2.2670e-01, 0.0000e+00, 0.0000e+00],\n",
      "         [2.3030e-01, 0.0000e+00, 0.0000e+00],\n",
      "         [5.3600e-02, 0.0000e+00, 0.0000e+00],\n",
      "         [4.8710e-01, 0.0000e+00, 0.0000e+00],\n",
      "         [5.1700e-02, 0.0000e+00, 0.0000e+00],\n",
      "         [9.1110e-01, 1.3146e+03, 4.1847e+02],\n",
      "         [7.9750e-01, 1.3092e+03, 4.1636e+02],\n",
      "         [8.8970e-01, 1.2938e+03, 4.9643e+02],\n",
      "         [5.0860e-01, 1.2822e+03, 4.8615e+02],\n",
      "         [8.2000e-01, 1.2350e+03, 5.4073e+02],\n",
      "         [4.8160e-01, 0.0000e+00, 0.0000e+00],\n",
      "         [9.7550e-01, 1.3056e+03, 5.5799e+02],\n",
      "         [9.5720e-01, 1.2998e+03, 5.5403e+02],\n",
      "         [9.5950e-01, 1.2750e+03, 6.5425e+02],\n",
      "         [9.1500e-01, 1.2594e+03, 6.5128e+02],\n",
      "         [9.0360e-01, 1.2788e+03, 7.4924e+02],\n",
      "         [8.4180e-01, 1.2544e+03, 7.4498e+02]]], device='cuda:0')\n"
     ]
    }
   ],
   "source": [
    "\n",
    "# Concatenate conf and xy along the last dimension (dim=2)\n",
    "result = torch.cat((conf.unsqueeze(2), xy), dim=2)\n",
    "\n",
    "result\n"
   ]
  }
 ],
 "metadata": {
  "kernelspec": {
   "display_name": "base",
   "language": "python",
   "name": "python3"
  },
  "language_info": {
   "codemirror_mode": {
    "name": "ipython",
    "version": 3
   },
   "file_extension": ".py",
   "mimetype": "text/x-python",
   "name": "python",
   "nbconvert_exporter": "python",
   "pygments_lexer": "ipython3",
   "version": "3.10.13"
  }
 },
 "nbformat": 4,
 "nbformat_minor": 2
}
